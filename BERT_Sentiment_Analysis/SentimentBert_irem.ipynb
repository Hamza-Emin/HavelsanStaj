{
  "nbformat": 4,
  "nbformat_minor": 0,
  "metadata": {
    "colab": {
      "provenance": [],
      "gpuType": "T4"
    },
    "kernelspec": {
      "name": "python3",
      "display_name": "Python 3"
    },
    "language_info": {
      "name": "python"
    },
    "accelerator": "GPU"
  },
  "cells": [
    {
      "cell_type": "code",
      "execution_count": 25,
      "metadata": {
        "colab": {
          "base_uri": "https://localhost:8080/"
        },
        "id": "uUxPKVEWjuoW",
        "outputId": "534e2b62-4e6b-40cc-f9b6-c6695646a783"
      },
      "outputs": [
        {
          "output_type": "stream",
          "name": "stdout",
          "text": [
            "Drive already mounted at /content/drive; to attempt to forcibly remount, call drive.mount(\"/content/drive\", force_remount=True).\n"
          ]
        }
      ],
      "source": [
        "from google.colab import drive\n",
        "drive.mount('/content/drive')\n"
      ]
    },
    {
      "cell_type": "code",
      "source": [
        "import pandas as pd\n",
        "\n",
        "file_path = '/content/drive/MyDrive/vodafone_data.csv'\n",
        "\n",
        "df= pd.read_csv(file_path, delimiter=';')\n",
        "print(df.head())"
      ],
      "metadata": {
        "colab": {
          "base_uri": "https://localhost:8080/"
        },
        "id": "QP75eL8Xj1eA",
        "outputId": "ff79167e-92f5-4b84-ecb5-cc49bbb932e4"
      },
      "execution_count": 26,
      "outputs": [
        {
          "output_type": "stream",
          "name": "stdout",
          "text": [
            "                                         Explanation  Target\n",
            "0  Vodafone'a ıyy diyen hayatında hiç vodafone ku...       1\n",
            "1  Her yerde çekiyor diye geçtiğim güne lanet ols...       0\n",
            "2  Vodafone benim için bitti artık her yerde çeki...       0\n",
            "3  Vodafone Sizin de içine mi sızdılar yoksa bili...       0\n",
            "4  Saf olmamak gerekir. Güvenlik açığı demek olay...       0\n"
          ]
        }
      ]
    },
    {
      "cell_type": "code",
      "source": [
        "import tensorflow as tf\n",
        "from transformers import BertTokenizer, TFBertForSequenceClassification\n",
        "import pandas as pd\n",
        "import re\n",
        "import matplotlib.pyplot as plt\n",
        "from sklearn.model_selection import train_test_split,StratifiedKFold\n",
        "from sklearn.metrics import classification_report\n",
        "import unicodedata\n"
      ],
      "metadata": {
        "id": "d3ZyCtWmlMMT"
      },
      "execution_count": 27,
      "outputs": []
    },
    {
      "cell_type": "code",
      "source": [
        "\n",
        "def clean_turkish_text(text):\n",
        "  if not isinstance(text, str):\n",
        "        return \"\"  # or return text if you prefer to keep non-string values as is\n",
        "\n",
        "    # Normalize Unicode characters (NFKC Normalization)\n",
        "  text = unicodedata.normalize('NFKC', text)\n",
        "\n",
        "    # Convert to lowercase\n",
        "  text = text.lower()\n",
        "\n",
        "    # Remove special characters, keep letters, numbers, and spaces\n",
        "  text = re.sub(r'[^a-zA-Z0-9çğıöşü\\s]', '', text)\n",
        "\n",
        "    # Remove extra whitespace\n",
        "  text = re.sub(r'\\s+', ' ', text).strip()\n",
        "\n",
        "\n",
        "  return text\n",
        "\n",
        "df['Cleaned_Explanation'] = df['Explanation'].apply(clean_turkish_text)\n",
        "\n",
        "print(df.head())"
      ],
      "metadata": {
        "colab": {
          "base_uri": "https://localhost:8080/"
        },
        "id": "YYRQLZGNmBsf",
        "outputId": "3a22144e-c69f-4d9a-ff5e-9633b753c353"
      },
      "execution_count": 28,
      "outputs": [
        {
          "output_type": "stream",
          "name": "stdout",
          "text": [
            "                                         Explanation  Target  \\\n",
            "0  Vodafone'a ıyy diyen hayatında hiç vodafone ku...       1   \n",
            "1  Her yerde çekiyor diye geçtiğim güne lanet ols...       0   \n",
            "2  Vodafone benim için bitti artık her yerde çeki...       0   \n",
            "3  Vodafone Sizin de içine mi sızdılar yoksa bili...       0   \n",
            "4  Saf olmamak gerekir. Güvenlik açığı demek olay...       0   \n",
            "\n",
            "                                 Cleaned_Explanation  \n",
            "0  vodafonea ıyy diyen hayatında hiç vodafone kul...  \n",
            "1  her yerde çekiyor diye geçtiğim güne lanet ols...  \n",
            "2  vodafone benim için bitti artık her yerde çeki...  \n",
            "3  vodafone sizin de içine mi sızdılar yoksa bili...  \n",
            "4  saf olmamak gerekir güvenlik açığı demek olayı...  \n"
          ]
        }
      ]
    },
    {
      "cell_type": "code",
      "source": [
        "X = df['Cleaned_Explanation']  # Features\n",
        "y = df['Target']  # Labels\n",
        "\n",
        "X_train_val, X_test, y_train_val, y_test = train_test_split( X, y, test_size=0.2, stratify=y, random_state=42)\n",
        "\n",
        "skf = StratifiedKFold(n_splits=5)\n",
        "\n",
        "for train_index, val_index in skf.split(X_train_val, y_train_val):\n",
        "    X_train_fold, X_val_fold = X_train_val.iloc[train_index], X_train_val.iloc[val_index]\n",
        "    y_train_fold, y_val_fold = y_train_val.iloc[train_index], y_train_val.iloc[val_index]\n",
        "\n"
      ],
      "metadata": {
        "id": "XHafiakpmOMh"
      },
      "execution_count": 29,
      "outputs": []
    },
    {
      "cell_type": "code",
      "source": [
        "#Tokenize and encode the data using the BERT tokenizer\n",
        "tokenizer = BertTokenizer.from_pretrained('dbmdz/bert-base-turkish-cased')\n",
        "\n",
        "max_len= 512\n",
        "# Tokenize and encode the sentences\n",
        "X_train_encoded = tokenizer.batch_encode_plus(X_train_fold.tolist(),\n",
        "\t\t\t\t\t\t\t\t\t\t\tpadding=True,\n",
        "\t\t\t\t\t\t\t\t\t\t\ttruncation=True,\n",
        "\t\t\t\t\t\t\t\t\t\t\tmax_length = max_len,\n",
        "\t\t\t\t\t\t\t\t\t\t\treturn_tensors='tf')\n",
        "\n",
        "X_val_encoded = tokenizer.batch_encode_plus(X_val_fold.tolist(),\n",
        "\t\t\t\t\t\t\t\t\t\t\tpadding=True,\n",
        "\t\t\t\t\t\t\t\t\t\t\ttruncation=True,\n",
        "\t\t\t\t\t\t\t\t\t\t\tmax_length = max_len,\n",
        "\t\t\t\t\t\t\t\t\t\t\treturn_tensors='tf')\n",
        "\n",
        "X_test_encoded = tokenizer.batch_encode_plus(X_test.tolist(),\n",
        "\t\t\t\t\t\t\t\t\t\t\tpadding=True,\n",
        "\t\t\t\t\t\t\t\t\t\t\ttruncation=True,\n",
        "\t\t\t\t\t\t\t\t\t\t\tmax_length = max_len,\n",
        "\t\t\t\t\t\t\t\t\t\t\treturn_tensors='tf')"
      ],
      "metadata": {
        "id": "69zV5jGkmzv1"
      },
      "execution_count": 30,
      "outputs": []
    },
    {
      "cell_type": "code",
      "source": [
        "model = TFBertForSequenceClassification.from_pretrained('dbmdz/bert-base-turkish-cased',num_labels=3)\n",
        "\n",
        "# Compile the model with an appropriate optimizer, loss function, and metrics\n",
        "optimizer = tf.keras.optimizers.Adam(learning_rate=2e-5)\n",
        "loss = tf.keras.losses.SparseCategoricalCrossentropy(from_logits=True)\n",
        "metric = tf.keras.metrics.SparseCategoricalAccuracy('accuracy')\n",
        "model.compile(optimizer=optimizer, loss=loss, metrics=[metric])"
      ],
      "metadata": {
        "colab": {
          "base_uri": "https://localhost:8080/"
        },
        "id": "oxKfemGcnFE4",
        "outputId": "1669b39b-8189-4a6f-fa19-943f9fd20086"
      },
      "execution_count": 31,
      "outputs": [
        {
          "output_type": "stream",
          "name": "stderr",
          "text": [
            "All model checkpoint layers were used when initializing TFBertForSequenceClassification.\n",
            "\n",
            "Some layers of TFBertForSequenceClassification were not initialized from the model checkpoint at dbmdz/bert-base-turkish-cased and are newly initialized: ['classifier']\n",
            "You should probably TRAIN this model on a down-stream task to be able to use it for predictions and inference.\n"
          ]
        }
      ]
    },
    {
      "cell_type": "code",
      "source": [
        "#Train the model\n",
        "history = model.fit(\n",
        "\t[X_train_encoded['input_ids'], X_train_encoded['token_type_ids'], X_train_encoded['attention_mask']],\n",
        "\ty_train_fold,\n",
        "\tvalidation_data=(\n",
        "\t[X_val_encoded['input_ids'], X_val_encoded['token_type_ids'], X_val_encoded['attention_mask']],y_val_fold),\n",
        "\tbatch_size=16,\n",
        "\tepochs=3\n",
        ")"
      ],
      "metadata": {
        "colab": {
          "base_uri": "https://localhost:8080/"
        },
        "id": "RObQLMI-nNPk",
        "outputId": "9de92d11-d0b0-42d8-d93a-de013adabb9d"
      },
      "execution_count": 32,
      "outputs": [
        {
          "output_type": "stream",
          "name": "stdout",
          "text": [
            "Epoch 1/3\n",
            "194/194 [==============================] - 368s 2s/step - loss: 0.7569 - accuracy: 0.6588 - val_loss: 0.8052 - val_accuracy: 0.7180\n",
            "Epoch 2/3\n",
            "194/194 [==============================] - 326s 2s/step - loss: 0.5731 - accuracy: 0.7697 - val_loss: 0.5157 - val_accuracy: 0.8047\n",
            "Epoch 3/3\n",
            "194/194 [==============================] - 326s 2s/step - loss: 0.4042 - accuracy: 0.8480 - val_loss: 0.5189 - val_accuracy: 0.8305\n"
          ]
        }
      ]
    },
    {
      "cell_type": "code",
      "source": [
        "pred = model.predict(\n",
        "\t[X_test_encoded['input_ids'], X_test_encoded['token_type_ids'], X_test_encoded['attention_mask']])\n",
        "\n",
        "# pred is of type TFSequenceClassifierOutput\n",
        "logits = pred.logits\n",
        "\n",
        "# Use argmax along the appropriate axis to get the predicted labels\n",
        "pred_labels = tf.argmax(logits, axis=1)\n",
        "\n",
        "# Convert the predicted labels to a NumPy array\n",
        "pred_labels = pred_labels.numpy()\n",
        "\n",
        "label = {\n",
        "\t0: 'Negative',\n",
        "\t1: 'Positive',\n",
        "  2: 'Neutral'\n",
        "}\n",
        "\n",
        "# Map the predicted labels to their corresponding strings using the label dictionary\n",
        "pred_labels = [label[i] for i in pred_labels]\n",
        "Actual = [label[i] for i in y_test]\n",
        "\n",
        "print('Predicted Label :', pred_labels[:10])\n",
        "print('Actual Label :', Actual[:10])\n"
      ],
      "metadata": {
        "colab": {
          "base_uri": "https://localhost:8080/"
        },
        "id": "e-xebM_Nr43o",
        "outputId": "24b933ba-d541-473c-fbc2-f5f5f1c19155"
      },
      "execution_count": 33,
      "outputs": [
        {
          "output_type": "stream",
          "name": "stdout",
          "text": [
            "31/31 [==============================] - 31s 877ms/step\n",
            "Predicted Label : ['Positive', 'Negative', 'Negative', 'Positive', 'Positive', 'Neutral', 'Negative', 'Positive', 'Positive', 'Positive']\n",
            "Actual Label : ['Negative', 'Negative', 'Negative', 'Positive', 'Positive', 'Neutral', 'Neutral', 'Positive', 'Positive', 'Positive']\n"
          ]
        }
      ]
    },
    {
      "cell_type": "code",
      "source": [
        "print(\"Classification Report: \\n\", classification_report(Actual, pred_labels))"
      ],
      "metadata": {
        "colab": {
          "base_uri": "https://localhost:8080/"
        },
        "id": "eTadnkWbst4p",
        "outputId": "487527ad-5bae-441f-99f8-f8006ddeafe1"
      },
      "execution_count": 34,
      "outputs": [
        {
          "output_type": "stream",
          "name": "stdout",
          "text": [
            "Classification Report: \n",
            "               precision    recall  f1-score   support\n",
            "\n",
            "    Negative       0.85      0.94      0.89       581\n",
            "     Neutral       0.70      0.54      0.61       145\n",
            "    Positive       0.81      0.70      0.75       241\n",
            "\n",
            "    accuracy                           0.82       967\n",
            "   macro avg       0.79      0.73      0.75       967\n",
            "weighted avg       0.82      0.82      0.82       967\n",
            "\n"
          ]
        }
      ]
    },
    {
      "cell_type": "code",
      "source": [
        "plt.plot(history.history['loss'], label='loss')\n",
        "plt.plot(history.history['val_loss'], label = 'val_loss')\n",
        "plt.plot(history.history['accuracy'], label='accuracy')\n",
        "plt.plot(history.history['val_accuracy'], label = 'val_accuracy')\n",
        "plt.xlabel('Epoch')\n",
        "plt.ylabel('Metric')\n",
        "plt.legend()\n",
        "plt.show()"
      ],
      "metadata": {
        "colab": {
          "base_uri": "https://localhost:8080/",
          "height": 449
        },
        "id": "MbGuKnDIs1W8",
        "outputId": "e6c97bf5-d6ff-46c4-dc9e-4fbd3470f75e"
      },
      "execution_count": 35,
      "outputs": [
        {
          "output_type": "display_data",
          "data": {
            "text/plain": [
              "<Figure size 640x480 with 1 Axes>"
            ],
            "image/png": "[encoded data removed]"
          },
          "metadata": {}
        }
      ]
    },
    {
      "cell_type": "code",
      "source": [
        "import os\n",
        "# Define the path where you want to save the model\n",
        "model_save_path = '/content/drive/MyDrive/bert_model2/'\n",
        "\n",
        "# Create the directory if it does not exist\n",
        "os.makedirs(model_save_path, exist_ok=True)\n",
        "\n",
        "# Save the model\n",
        "model.save_pretrained(model_save_path)\n",
        "tokenizer.save_pretrained(model_save_path)\n",
        "\n",
        "print(f\"Model and tokenizer saved to {model_save_path}\")"
      ],
      "metadata": {
        "colab": {
          "base_uri": "https://localhost:8080/"
        },
        "id": "Z4yDHdkBtTGP",
        "outputId": "e925bb77-fa96-4a79-dad4-ae51caf67abb"
      },
      "execution_count": 37,
      "outputs": [
        {
          "output_type": "stream",
          "name": "stdout",
          "text": [
            "Model and tokenizer saved to /content/drive/MyDrive/bert_model2/\n"
          ]
        }
      ]
    },
    {
      "cell_type": "code",
      "source": [
        "# Define a function to predict the sentiment of a single input text\n",
        "def predict_sentiment(text):\n",
        "    # Clean the text\n",
        "    cleaned_text = clean_turkish_text(text)\n",
        "\n",
        "    # Tokenize and encode the text\n",
        "    encoded_input = tokenizer.encode_plus(\n",
        "        cleaned_text,\n",
        "        padding='max_length',\n",
        "        truncation=True,\n",
        "        max_length=max_len,\n",
        "        return_tensors='tf'\n",
        "    )\n",
        "\n",
        "    # Make a prediction\n",
        "    pred = model.predict([encoded_input['input_ids'], encoded_input['token_type_ids'], encoded_input['attention_mask']])\n",
        "\n",
        "    # Get the logits\n",
        "    logits = pred.logits\n",
        "\n",
        "    # Get the predicted label index (use argmax to get the index of the highest score)\n",
        "    pred_label_index = tf.argmax(logits, axis=1).numpy()[0]\n",
        "\n",
        "    # Convert the label index to a string label\n",
        "    pred_label = label[pred_label_index]\n",
        "\n",
        "    return pred_label\n",
        "\n",
        "\n"
      ],
      "metadata": {
        "id": "K6VkeVrhv607"
      },
      "execution_count": 38,
      "outputs": []
    },
    {
      "cell_type": "code",
      "source": [
        "input_text = \"Bu ürün gerçekten harika, çok memnun kaldım!\"\n",
        "predicted_sentiment = predict_sentiment(input_text)\n",
        "print(f\"Predicted Sentiment: {predicted_sentiment}\")"
      ],
      "metadata": {
        "colab": {
          "base_uri": "https://localhost:8080/"
        },
        "id": "zmKHPSLk8jTn",
        "outputId": "d81d7148-1286-4622-857b-21c6df0b8c98"
      },
      "execution_count": 39,
      "outputs": [
        {
          "output_type": "stream",
          "name": "stdout",
          "text": [
            "1/1 [==============================] - 5s 5s/step\n",
            "Predicted Sentiment: Positive\n"
          ]
        }
      ]
    },
    {
      "cell_type": "code",
      "source": [
        "input_text = \"Vodafone pişmanlıktır bir daha asla\"\n",
        "predicted_sentiment = predict_sentiment(input_text)\n",
        "print(f\"Predicted Sentiment: {predicted_sentiment}\")"
      ],
      "metadata": {
        "colab": {
          "base_uri": "https://localhost:8080/"
        },
        "id": "I55z8eou8p1r",
        "outputId": "e2f8d5cb-334a-406c-8cee-9797ef7c64b6"
      },
      "execution_count": 40,
      "outputs": [
        {
          "output_type": "stream",
          "name": "stdout",
          "text": [
            "1/1 [==============================] - 0s 118ms/step\n",
            "Predicted Sentiment: Negative\n"
          ]
        }
      ]
    },
    {
      "cell_type": "code",
      "source": [
        "input_text = \"idare eder işimi görüyor şimdilik\"\n",
        "predicted_sentiment = predict_sentiment(input_text)\n",
        "print(f\"Predicted Sentiment: {predicted_sentiment}\")"
      ],
      "metadata": {
        "colab": {
          "base_uri": "https://localhost:8080/"
        },
        "id": "v2UCs57T8u_Z",
        "outputId": "f00824fe-bb7f-4e11-ca2b-f2a59798b84c"
      },
      "execution_count": 42,
      "outputs": [
        {
          "output_type": "stream",
          "name": "stdout",
          "text": [
            "1/1 [==============================] - 0s 121ms/step\n",
            "Predicted Sentiment: Neutral\n"
          ]
        }
      ]
    }
  ]
}