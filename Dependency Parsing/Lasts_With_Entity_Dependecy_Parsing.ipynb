{
  "nbformat": 4,
  "nbformat_minor": 0,
  "metadata": {
    "colab": {
      "provenance": []
    },
    "kernelspec": {
      "name": "python3",
      "display_name": "Python 3"
    },
    "language_info": {
      "name": "python"
    }
  },
  "cells": [
    {
      "cell_type": "code",
      "execution_count": null,
      "metadata": {
        "id": "vBywYNMg0lJl"
      },
      "outputs": [],
      "source": [
        "!pip install https://huggingface.co/turkish-nlp-suite/tr_core_news_trf/resolve/main/tr_core_news_trf-1.0-py3-none-any.whl"
      ]
    },
    {
      "cell_type": "code",
      "source": [
        "import spacy\n",
        "nlp = spacy.load('tr_core_news_trf')"
      ],
      "metadata": {
        "id": "meRIYVGH0nkG"
      },
      "execution_count": null,
      "outputs": []
    },
    {
      "cell_type": "code",
      "source": [
        "# bu entity lerin Aspect Based modelden gelmesi beklenmektedir.\n",
        "entities1 = [\"Vodafone\", \"Turkcell\", \"Türk Telekom\"]\n",
        "\n",
        "def lasts_with_entity(text):\n",
        "  doc = nlp(text) # metnin tokenize haline getirilmesi\n",
        "  sentence = [] # elde edilen metnin tutulacağ dizinin başlatılması\n",
        "  entities = [token for token in doc if token.text in entities1] # entity lerin metin içinden tanınması\n",
        "\n",
        "  for token in doc: # metin içindeki her bir kelime için:\n",
        "    if token.is_sent_end and token in entities: # token en sonda ise ve bir entity ise:\n",
        "      entity = doc[token.i] # entity metin içinden alınır ve bir değişkende tutulur\n",
        "      text = doc[:token.i].text.strip() # sondaki entityden önceki bütün metin bir değişkende tutulur\n",
        "      sentence.append(entity.text + \" \" + text) # başa sondaki entity gelecek şekilde bütün metin entity nin sonunda eklenir\n",
        "\n",
        "  return sentence # son metnin tutulduğu dizi döndürülür\n",
        "\n",
        "# Ö R N E K L E R\n",
        "text = \"Bu Red Tarife hizmetinden hiç memnun kalmadım. Size ne desem bilemiyorum. Telefon çekmiyor ve fiyatlar çok pahalı. Bir daha sizi tercih etmeyeceğim. Yazıklar olsun. Vodafone\"\n",
        "sentence = lasts_with_entity(text)\n",
        "print(sentence)\n",
        "\n",
        "text = \"Sizi oldum olası hiç sevemedim. Daha önce Turkcell kulandım ve çok daha memnun kaldım. Galiba Türk Telekom bile sizden daha iyi. En kısa vakitte sizden kurtuluyorum. Vodafone\"\n",
        "sentence = lasts_with_entity(text)\n",
        "print(sentence)"
      ],
      "metadata": {
        "colab": {
          "base_uri": "https://localhost:8080/"
        },
        "id": "XZls3ghL0nrn",
        "outputId": "b118f098-b1c3-4bb8-8687-9617c65df560"
      },
      "execution_count": 14,
      "outputs": [
        {
          "output_type": "stream",
          "name": "stderr",
          "text": [
            "/usr/local/lib/python3.10/dist-packages/thinc/shims/pytorch.py:114: FutureWarning: `torch.cuda.amp.autocast(args...)` is deprecated. Please use `torch.amp.autocast('cuda', args...)` instead.\n",
            "  with torch.cuda.amp.autocast(self._mixed_precision):\n"
          ]
        },
        {
          "output_type": "stream",
          "name": "stdout",
          "text": [
            "['Vodafone Bu Red Tarife hizmetinden hiç memnun kalmadım. Size ne desem bilemiyorum. Telefon çekmiyor ve fiyatlar çok pahalı. Bir daha sizi tercih etmeyeceğim. Yazıklar olsun.']\n",
            "['Vodafone Sizi oldum olası hiç sevemedim. Daha önce Turkcell kulandım ve çok daha memnun kaldım. Galiba Türk Telekom bile sizden daha iyi. En kısa vakitte sizden kurtuluyorum.']\n"
          ]
        }
      ]
    }
  ]
}