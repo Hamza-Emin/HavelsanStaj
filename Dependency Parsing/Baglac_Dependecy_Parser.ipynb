{
  "nbformat": 4,
  "nbformat_minor": 0,
  "metadata": {
    "colab": {
      "provenance": []
    },
    "kernelspec": {
      "name": "python3",
      "display_name": "Python 3"
    },
    "language_info": {
      "name": "python"
    }
  },
  "cells": [
    {
      "cell_type": "code",
      "execution_count": null,
      "metadata": {
        "id": "P1NU7ZcFyWW_"
      },
      "outputs": [],
      "source": [
        "!pip install https://huggingface.co/turkish-nlp-suite/tr_core_news_trf/resolve/main/tr_core_news_trf-1.0-py3-none-any.whl"
      ]
    },
    {
      "cell_type": "code",
      "source": [
        "import spacy\n",
        "nlp = spacy.load('tr_core_news_trf')"
      ],
      "metadata": {
        "id": "zi9jWMf3yfAz"
      },
      "execution_count": null,
      "outputs": []
    },
    {
      "cell_type": "code",
      "source": [
        "# bu entity lerin Aspect Based modelden gelmesi beklenmektedir.\n",
        "entities1 = [\"Vodafone\", \"Turkcell\", \"Türk Telekom\"]\n",
        "\n",
        "def get_split_sentences_with_conjunction(text):\n",
        "\n",
        "    doc = nlp(text) # metnin tokenize haline getirilmesi\n",
        "    split_sentences = [] # çıkarılan cümlelerin tutulacağı dizinin başlatılması\n",
        "    add_old_entity = False # ilk durumda eski entity eklenmesi bool değeri False verilir.\n",
        "    for sent in doc.sents: # metnin her bir cümlesi için:\n",
        "        conjunctions = [token for token in sent if token.pos_ in ['CCONJ', 'SCONJ'] or token.text == \"\\0\"] # bağlaçların metin içinden tanınması\n",
        "        entities = [token for token in sent if token.text in entities1] # entity lerin metin içinden tanınması\n",
        "        k = 0 # ilk bağlaç için bir sayaç oluşturulması\n",
        "        if conjunctions: # metinde bağlaç var ise:\n",
        "          for conjunction in conjunctions: # her bir bağlaç için:\n",
        "            if k==0: # ilk bağlaç için:\n",
        "              if sent[conjunction.i-1] in entities and sent[conjunction.i+1] in entities: # eğer bağlaçtan bir önceki ve sonraki kelime bir entity ise:\n",
        "                old_entity = sent[conjunction.i-1] # önceki entity bir değişkende tutulur\n",
        "                add_old_entity = True # eski entity sonradan ekleneceği için bool değişkeni True yapılır\n",
        "              else: # eğer bağlaçtan bir önceki ve sonraki kelime bir entity değil ise:\n",
        "                text = sent[:conjunction.i].text.strip() # bağlaçtan önceki cümle metinden alınır\n",
        "                split_sentences.append(text) # alınan metin diziye eklenir\n",
        "              k += 1 # ilk bağlaçtan çıkıldığı için sayaç arttırılır\n",
        "              old_conjunction = conjunction # eski bağlaç bir değişkende tutulur\n",
        "            else: # ilk bağlaçtan sonraki bağlaçlar ise:\n",
        "              if sent[conjunction.i-1] in entities and sent[conjunction.i+1] in entities: # eğer bağlaçtan bir önceki ve sonraki kelime bir entity ise:\n",
        "                old_entity = sent[conjunction.i-1] # önceki entity bir değişkende tutulur\n",
        "                add_old_entity = True # eski entity sonradan ekleneceği için bool değişkeni True yapılır\n",
        "              else: # eğer bağlaçtan bir önceki ve sonraki kelime bir entity değil ise:\n",
        "                text = sent[old_conjunction.i+1:conjunction.i].text.strip() # eski bağlaçtan şu anki bağlaça kadar olan cümle metinden alınır\n",
        "                split_sentences.append(text) # alınan metin diziye eklenir\n",
        "                if add_old_entity == True: # eski entity nin eklenmesi gerekiyor ise:\n",
        "                    text = sent[old_entity.i].text.strip() # eski entity cümleden alınır\n",
        "                    text2 = sent[old_conjunction.i+2:conjunction.i].text.strip() # eski bağlaçtan ve entityden sonra şu anki bağlaça kadar olan cümle metinden alınır\n",
        "                    split_sentences.append(text + \" \" + text2) # eski entity ile alınan cümle arasına bir boşluk eklenerek diziye eklenir\n",
        "                    add_old_entity = False # eski entity alındığı için bool False değerine getirilir\n",
        "              old_conjunction = conjunction # eski bağlaç bir değişkende tutulur\n",
        "              k += 1\n",
        "          split_sentences.append(sent[conjunction.i + 1:].text.strip())\n",
        "\n",
        "    while(\"\" in split_sentences):\n",
        "      split_sentences.remove(\"\")\n",
        "\n",
        "    return split_sentences\n",
        "\n",
        "# Ö R N E K L E R\n",
        "text = \"Türk Telekom kötü ama Vodafone ve Turkcell çok iyi.\"\n",
        "split_sentences = get_split_sentences_with_conjunction(text)\n",
        "print(split_sentences)\n",
        "\n",
        "text = \"Vodafone ve Turkcell çok iyi ama Türk Telekom kötü.\"\n",
        "split_sentences = get_split_sentences_with_conjunction(text)\n",
        "print(split_sentences)\n",
        "\n",
        "text = \"Türk Telekom kötü ama Vodafone güzel ve Turkcell çok iyi.\"\n",
        "split_sentences = get_split_sentences_with_conjunction(text)\n",
        "print(split_sentences)\n",
        "\n",
        "text = \"Turkcell Vodafone güzelken çok iyi ama Türk Telekom tercih ederek hata yaptım\"\n",
        "split_sentences = get_split_sentences_with_conjunction(text)\n",
        "print(split_sentences)\n",
        "\n",
        "text = \"Turkcell ve Vodafone güzelken çok iyi ama Türk Telekom tercih ederek hata yaptım\"\n",
        "split_sentences = get_split_sentences_with_conjunction(text)\n",
        "print(split_sentences)"
      ],
      "metadata": {
        "colab": {
          "base_uri": "https://localhost:8080/"
        },
        "id": "W6tCXuXMycBN",
        "outputId": "7f41022b-11d6-462a-ea63-046a295d1a3d"
      },
      "execution_count": 12,
      "outputs": [
        {
          "output_type": "stream",
          "name": "stdout",
          "text": [
            "['Türk Telekom kötü', 'Turkcell çok iyi.']\n",
            "['Turkcell çok iyi', 'Vodafone çok iyi', 'Türk Telekom kötü.']\n",
            "['Türk Telekom kötü', 'Vodafone güzel', 'Turkcell çok iyi.']\n",
            "['Turkcell Vodafone güzelken çok iyi', 'Türk Telekom tercih ederek hata yaptım']\n",
            "['Vodafone güzelken çok iyi', 'Turkcell güzelken çok iyi', 'Türk Telekom tercih ederek hata yaptım']\n"
          ]
        }
      ]
    }
  ]
}