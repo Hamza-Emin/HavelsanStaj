{
  "cells": [
    {
      "cell_type": "code",
      "execution_count": null,
      "metadata": {
        "colab": {
          "base_uri": "https://localhost:8080/"
        },
        "id": "0Jv4tI9qAnlF",
        "outputId": "9212e5fe-5b87-4443-e644-121c557092d2"
      },
      "outputs": [],
      "source": [
        "from google.colab import drive\n",
        "drive.mount('/content/drive')\n"
      ]
    },
    {
      "cell_type": "code",
      "execution_count": 2,
      "metadata": {
        "id": "xH-_J5rZV0Hi"
      },
      "outputs": [],
      "source": [
        "import spacy\n",
        "import random\n",
        "import pandas as pd\n",
        "import numpy as np\n",
        "import json\n",
        "from spacy.training import Example\n",
        "from sklearn.metrics import precision_recall_fscore_support"
      ]
    },
    {
      "cell_type": "code",
      "execution_count": 9,
      "metadata": {
        "id": "QFVyHC3jcgoq"
      },
      "outputs": [],
      "source": [
        "# Load the JSONL data\n",
        "train_data = []\n",
        "with open('absa_data.jsonl', 'r', encoding='utf-8') as f:\n",
        "    for line in f:\n",
        "        data = json.loads(line.strip())\n",
        "        text = data.get('text', '').lower()  # 'text' anahtarı yoksa boş string kullan\n",
        "        # 'entities' anahtarı yoksa boş bir liste kullan\n",
        "        entities = data.get('entities', [])\n",
        "\n",
        "       # Validation and removing duplicates\n",
        "        seen_spans = set()\n",
        "        unique_entities = []\n",
        "        for start, end, label in entities:\n",
        "            if (start, end) not in seen_spans:\n",
        "                seen_spans.add((start, end))\n",
        "                unique_entities.append((start, end, label))\n",
        "\n",
        "        train_data.append((text, {\"entities\": unique_entities}))\n"
      ]
    },
    {
      "cell_type": "code",
      "execution_count": null,
      "metadata": {
        "id": "Ro3RNEyws7Ai"
      },
      "outputs": [],
      "source": [
        "# Create a new empty spacy model.\n",
        "nlp = spacy.blank(\"tr\")\n",
        "\n",
        "\n",
        "# Adding ner to nlp model.\n",
        "ner = nlp.add_pipe(\"ner\")\n",
        "\n",
        "# Adding annotations\n",
        "for _, annotations in train_data:\n",
        "    for ent in annotations.get(\"entities\"):\n",
        "        ner.add_label(ent[2])\n",
        "\n",
        "# Adding optimizer for training the model\n",
        "optimizer = nlp.begin_training()\n",
        "\n",
        "\n",
        "# Training\n",
        "for epoch in range(100):\n",
        "    random.shuffle(train_data)\n",
        "    losses = {}\n",
        "    # Mini-batch size\n",
        "    batch_size = 8\n",
        "    for i in range(0, len(train_data), batch_size):\n",
        "        batch = train_data[i:i + batch_size]\n",
        "        examples = []\n",
        "        for text, annotations in batch:\n",
        "            doc = nlp.make_doc(text)\n",
        "            example = Example.from_dict(doc, annotations)\n",
        "            examples.append(example)\n",
        "        # Updating the model\n",
        "        nlp.update(examples, drop=0.5, losses=losses, sgd=optimizer)\n",
        "\n",
        "    print(f\"Epoch {epoch+1} - Losses: {losses}\")\n",
        "\n",
        "\n",
        "save_path = '/content/drive/MyDrive/spacy_trained_model'\n",
        "\n",
        "# Save the trained model\n",
        "nlp.to_disk(save_path)\n"
      ]
    },
    {
      "cell_type": "code",
      "execution_count": 3,
      "metadata": {
        "id": "aC5zBc_EJ6Pc"
      },
      "outputs": [],
      "source": [
        "load_path = '/content/drive/MyDrive/spacy_trained_model'\n",
        "\n",
        "nlp = spacy.load(load_path)\n",
        "\n",
        "test_data_with_annotations = [\n",
        "{\"id\":14994,\"text\":\" vodafonetr  vodafone  vodafonemedya müşteri memnuniyeti kaliteli hizmet denince ilk akıllara gelen  turkcell tercih edin rahat edin sizi mağazamıza çay içmeye bekliyoruz\",\"entities\":[[1,11,\"Organization\"],[13,21,\"Organization\"],[23,36,\"Service\"],[66,72,\"Service\"],[101,109,\"Organization\"]],\"Comments\":[]},\n",
        "{\"id\":14995,\"text\":\" vodafonedestek bu sorunun çözülemeyeceğini benden daha iyi biliyorsunuz . şebeke elektrik kesik değilken bile zayıf kötü anlatabildim mi . bölge de çalışma var bahanesiyle oyalayacaksınız yormayın beni.  vodafonedestek şebeke konusunda  turkcell sizi sollar.\",\"entities\":[[1,15,\"Service\"],[75,81,\"Service\"],[205,219,\"Service\"],[220,226,\"Service\"],[238,246,\"Organization\"]],\"Comments\":[]},\n",
        "{\"id\":14996,\"text\":\" turkcell sevgili  ttdestek daha hızlı bir internet erişimi istiyorum :bouquet:\",\"entities\":[[1,9,\"Organization\"],[19,27,\"Service\"],[43,51,\"Service\"]],\"Comments\":[]},\n",
        "{\"id\":14997,\"text\":\" turktelekom  turkcellhizmet digitürk satmaya çalışıyorlar.\",\"entities\":[[1,12,\"Organization\"],[14,28,\"Service\"],[29,37,\"Application\"]],\"Comments\":[]},\n",
        "{\"id\":14998,\"text\":\"allah aşkına bu mahallenin sahibi yokmu 40 gün oldu i̇nternet yok çoluk çocuk okul açılınca ne yapacak. zeytinli mahallesi  turktelekom  turkcellhizmet  turkcell haberimiz olmadan depremmi oldu selmi oldu\",\"entities\":[[52,61,\"Organization\"],[124,135,\"Organization\"],[137,151,\"Service\"],[153,161,\"Organization\"]],\"Comments\":[]},\n",
        "{\"id\":14999,\"text\":\" turktelekom  turkcell  vodafonetr felaket boyunca hangi hizmeti verdiler ki parasını istiyorlar? hepinize yazıklar olsun!\",\"entities\":[[1,12,\"Organization\"],[14,22,\"Organization\"],[24,34,\"Organization\"],[57,64,\"Service\"]],\"Comments\":[]},\n",
        "{\"id\":15000,\"text\":\" turktelekom  turkcell mesele youtuber olunca hemen el atıyorlar değil mi? çifte standartına ittiminin sistemi\",\"entities\":[[1,12,\"Organization\"],[14,22,\"Organization\"]],\"Comments\":[]},\n",
        "{\"id\":15001,\"text\":\"hattım turkcell telefonum tek sim kartlı. vodafone ilgili hiçbir uygulamam yok. daha önce de bu uyarıyı gördüm cihazı fabrika ayarlarına sıfırladım bu 2. oldu\",\"entities\":[[0,6,\"Service\"],[7,15,\"Organization\"],[42,50,\"Organization\"]],\"Comments\":[]},\n",
        "{\"id\":15002,\"text\":\" ttdestek turkcell faturalı hattımı size faturasız hat olarak taşımak istiyorum. yardımcı olacak yok mu aranızda??\",\"entities\":[[1,9,\"Service\"],[10,18,\"Organization\"],[19,27,\"Packet\"],[28,35,\"Service\"],[41,50,\"Packet\"],[51,54,\"Service\"]],\"Comments\":[]},\n",
        "{\"id\":15003,\"text\":\"vodafone sınırsız internet sınırsız konuşma ve mesajlaşma paketi 200 tl ? turkcell bu şekilde bir kampanya yapmıyor sınırsız tarife ve paket fiyatlarınız çok yüksek ?\",\"entities\":[[0,8,\"Organization\"],[18,26,\"Service\"],[27,64,\"Packet\"],[116,131,\"Packet\"],[135,140,\"Packet\"]],\"Comments\":[]},\n",
        "{\"id\":15004,\"text\":\" ttdestek 5 gün internetsiz kal 5 gün içinde 2 kere 48 saat içinde internet sorununuz çözülecek diyorsunuz şimdi arayıp pişkin pişkin 17 kasıma kadar diyorsun türk telekom pişmanlıktır turkcell bırakıp size geçerek en büyük yanlışı yaptım\",\"entities\":[[1,9,\"Service\"],[67,75,\"Service\"],[159,171,\"Organization\"],[185,193,\"Organization\"]],\"Comments\":[]},\n",
        "{\"id\":15005,\"text\":\"3 saatlik 1 gb diye hediye mi olur yemin ederim taahüütüm bitsin turkcellin önünden bile geçmem ne hediye veriliyor kol gibi fatura geliyor sizin gibi operatörü kınıyorum vodafone haftalık 4 gb hediye veriyor siz ise 3 saatlik 1 gb farka bak ya\",\"entities\":[[65,75,\"Organization\"],[125,131,\"Service\"],[171,179,\"Organization\"]],\"Comments\":[]},\n",
        "\n",
        "]"
      ]
    },
    {
      "cell_type": "code",
      "execution_count": 7,
      "metadata": {
        "colab": {
          "base_uri": "https://localhost:8080/"
        },
        "id": "vrUIRSNZbpds",
        "outputId": "0efe6627-c0be-4db0-fa13-fc93423c3a7e"
      },
      "outputs": [
        {
          "name": "stdout",
          "output_type": "stream",
          "text": [
            "Model Accuracy: 0.7660\n",
            "Text:  vodafonetr  vodafone  vodafonemedya müşteri memnuniyeti kaliteli hizmet denince ilk akıllara gelen  turkcell tercih edin rahat edin sizi mağazamıza çay içmeye bekliyoruz\n",
            "Predicted Entities: [('vodafonetr', 'Organization'), ('vodafone', 'Organization'), ('vodafonemedya', 'Service'), ('turkcell', 'Organization')]\n",
            "\n",
            "\n",
            "Text:  vodafonedestek bu sorunun çözülemeyeceğini benden daha iyi biliyorsunuz . şebeke elektrik kesik değilken bile zayıf kötü anlatabildim mi . bölge de çalışma var bahanesiyle oyalayacaksınız yormayın beni.  vodafonedestek şebeke konusunda  turkcell sizi sollar.\n",
            "Predicted Entities: [('vodafonedestek', 'Service'), ('şebeke', 'Service'), ('vodafonedestek', 'Service'), ('şebeke', 'Service'), ('turkcell', 'Organization')]\n",
            "\n",
            "\n",
            "Text:  turkcell sevgili  ttdestek daha hızlı bir internet erişimi istiyorum :bouquet:\n",
            "Predicted Entities: [('turkcell', 'Organization'), ('ttdestek', 'Service'), ('internet', 'Service')]\n",
            "\n",
            "\n",
            "Text:  turktelekom  turkcellhizmet digitürk satmaya çalışıyorlar.\n",
            "Predicted Entities: [('turktelekom', 'Organization'), ('turkcellhizmet', 'Service')]\n",
            "\n",
            "\n",
            "Text: allah aşkına bu mahallenin sahibi yokmu 40 gün oldu i̇nternet yok çoluk çocuk okul açılınca ne yapacak. zeytinli mahallesi  turktelekom  turkcellhizmet  turkcell haberimiz olmadan depremmi oldu selmi oldu\n",
            "Predicted Entities: [('mahallenin', 'Service'), ('i̇nternet', 'Service'), ('turktelekom', 'Organization'), ('turkcellhizmet', 'Service'), ('turkcell', 'Organization')]\n",
            "\n",
            "\n",
            "Text:  turktelekom  turkcell  vodafonetr felaket boyunca hangi hizmeti verdiler ki parasını istiyorlar? hepinize yazıklar olsun!\n",
            "Predicted Entities: [('turktelekom', 'Organization'), ('turkcell', 'Organization'), ('vodafonetr', 'Organization')]\n",
            "\n",
            "\n",
            "Text:  turktelekom  turkcell mesele youtuber olunca hemen el atıyorlar değil mi? çifte standartına ittiminin sistemi\n",
            "Predicted Entities: [('turktelekom', 'Organization'), ('turkcell', 'Organization')]\n",
            "\n",
            "\n",
            "Text: hattım turkcell telefonum tek sim kartlı. vodafone ilgili hiçbir uygulamam yok. daha önce de bu uyarıyı gördüm cihazı fabrika ayarlarına sıfırladım bu 2. oldu\n",
            "Predicted Entities: [('hattım', 'Service'), ('turkcell', 'Organization'), ('vodafone', 'Organization'), ('fabrika', 'Service')]\n",
            "\n",
            "\n",
            "Text:  ttdestek turkcell faturalı hattımı size faturasız hat olarak taşımak istiyorum. yardımcı olacak yok mu aranızda??\n",
            "Predicted Entities: [('ttdestek', 'Service'), ('turkcell', 'Organization'), ('faturasız', 'Packet')]\n",
            "\n",
            "\n",
            "Text: vodafone sınırsız internet sınırsız konuşma ve mesajlaşma paketi 200 tl ? turkcell bu şekilde bir kampanya yapmıyor sınırsız tarife ve paket fiyatlarınız çok yüksek ?\n",
            "Predicted Entities: [('vodafone', 'Organization'), ('internet', 'Service'), ('turkcell', 'Organization')]\n",
            "\n",
            "\n",
            "Text:  ttdestek 5 gün internetsiz kal 5 gün içinde 2 kere 48 saat içinde internet sorununuz çözülecek diyorsunuz şimdi arayıp pişkin pişkin 17 kasıma kadar diyorsun türk telekom pişmanlıktır turkcell bırakıp size geçerek en büyük yanlışı yaptım\n",
            "Predicted Entities: [('ttdestek', 'Service'), ('internet', 'Service'), ('türk telekom', 'Organization'), ('turkcell', 'Organization')]\n",
            "\n",
            "\n",
            "Text: 3 saatlik 1 gb diye hediye mi olur yemin ederim taahüütüm bitsin turkcellin önünden bile geçmem ne hediye veriliyor kol gibi fatura geliyor sizin gibi operatörü kınıyorum vodafone haftalık 4 gb hediye veriyor siz ise 3 saatlik 1 gb farka bak ya\n",
            "Predicted Entities: [('turkcellin', 'Organization'), ('vodafone', 'Organization')]\n",
            "\n",
            "\n"
          ]
        }
      ],
      "source": [
        "# Function to evaluate the model\n",
        "def evaluate_model(nlp, test_data):\n",
        "    correct_predictions = 0\n",
        "    total_entities = 0\n",
        "    for example in test_data:\n",
        "        doc = nlp(example['text'].lower())\n",
        "        gold_entities = set((start, end, label) for start, end, label in example['entities'])\n",
        "        pred_entities = set((ent.start_char, ent.end_char, ent.label_) for ent in doc.ents)\n",
        "\n",
        "        correct_predictions += len(gold_entities & pred_entities)  # Correct predictions\n",
        "        total_entities += len(gold_entities)  # Total entities in data\n",
        "\n",
        "    accuracy = correct_predictions / total_entities if total_entities > 0 else 0\n",
        "    return accuracy\n",
        "\n",
        "# Evaluate the model on the test data\n",
        "accuracy = evaluate_model(nlp, test_data_with_annotations)\n",
        "print(f\"Model Accuracy: {accuracy:.4f}\")\n",
        "\n",
        "for example in test_data_with_annotations:\n",
        "    doc = nlp(example['text'])\n",
        "    print(\"Text:\", example['text'])\n",
        "    print(\"Predicted Entities:\", [(ent.text, ent.label_) for ent in doc.ents])\n",
        "    print(\"\\n\")"
      ]
    }
  ],
  "metadata": {
    "accelerator": "GPU",
    "colab": {
      "gpuType": "T4",
      "provenance": []
    },
    "kernelspec": {
      "display_name": "Python 3",
      "name": "python3"
    },
    "language_info": {
      "name": "python"
    }
  },
  "nbformat": 4,
  "nbformat_minor": 0
}
